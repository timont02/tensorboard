{
 "cells": [
  {
   "cell_type": "code",
   "execution_count": 9,
   "metadata": {},
   "outputs": [],
   "source": [
    "import cv2\n",
    "import os"
   ]
  },
  {
   "attachments": {},
   "cell_type": "markdown",
   "metadata": {},
   "source": [
    "# 1. Define Labels"
   ]
  },
  {
   "cell_type": "code",
   "execution_count": 10,
   "metadata": {},
   "outputs": [],
   "source": [
    "labels = ['RipeTomato', 'UnripeTomato']"
   ]
  },
  {
   "attachments": {},
   "cell_type": "markdown",
   "metadata": {},
   "source": [
    "# 2. Setup Folders"
   ]
  },
  {
   "cell_type": "code",
   "execution_count": 11,
   "metadata": {},
   "outputs": [],
   "source": [
    "IMAGES_PATH = os.path.join('Tensorflow', 'workspace', 'images', 'collected_images')\n",
    "\n",
    "if not os.path.exists(IMAGES_PATH):\n",
    "    if os.name == 'posix':\n",
    "        !mkdir -p {IMAGES_PATH}\n",
    "    if os.name == 'nt':\n",
    "        !mkdir {IMAGES_PATH}"
   ]
  },
  {
   "attachments": {},
   "cell_type": "markdown",
   "metadata": {},
   "source": [
    "# 3. Setup Images\n",
    "\n",
    "Copy all your collected images in the directory collected_images"
   ]
  },
  {
   "attachments": {},
   "cell_type": "markdown",
   "metadata": {},
   "source": [
    "# 4. Image Labelling "
   ]
  },
  {
   "attachments": {},
   "cell_type": "markdown",
   "metadata": {},
   "source": [
    "For labelling we are using label studio.\n",
    "This the repo of this tool has be cloned before we can use it"
   ]
  },
  {
   "cell_type": "code",
   "execution_count": 1,
   "metadata": {},
   "outputs": [
    {
     "name": "stdout",
     "output_type": "stream",
     "text": [
      "Requirement already satisfied: pyqt5 in c:\\users\\jannespc\\anaconda3\\envs\\tomatocounter\\lib\\site-packages (5.15.7)\n",
      "Requirement already satisfied: lxml in c:\\users\\jannespc\\anaconda3\\envs\\tomatocounter\\lib\\site-packages (4.9.2)\n",
      "Requirement already satisfied: PyQt5-Qt5>=5.15.0 in c:\\users\\jannespc\\anaconda3\\envs\\tomatocounter\\lib\\site-packages (from pyqt5) (5.15.2)\n",
      "Requirement already satisfied: PyQt5-sip<13,>=12.11 in c:\\users\\jannespc\\anaconda3\\envs\\tomatocounter\\lib\\site-packages (from pyqt5) (12.11.0)\n"
     ]
    }
   ],
   "source": [
    "!pip install --upgrade pyqt5 lxml\n",
    "\n",
    "LABELIMG_PATH = os.path.join('Tensorflow', 'labelimg')\n",
    "\n",
    "if not os.path.exists(LABELIMG_PATH):\n",
    "    !mkdir {LABELIMG_PATH}\n",
    "    !git clone https://github.com/tzutalin/labelImg {LABELIMG_PATH}\n",
    "\n",
    "if os.name == 'posix':\n",
    "    !cd {LABELIMG_PATH} && make qt5py3\n",
    "if os.name =='nt':\n",
    "    !cd {LABELIMG_PATH} && pyrcc5 -o libs/resources.py resources.qrc"
   ]
  },
  {
   "attachments": {},
   "cell_type": "markdown",
   "metadata": {},
   "source": [
    "Start label studio and label all collected images.  \n",
    "Steps to do so:\n",
    "- open the directory collected_images\n",
    "- create a bounding box for each object by pressing 'w' (it is important to use the same nameing convention as defined in Step 1 of this notebook)\n",
    "- after you created bounding boxes for all objects click save and label studio should create a xml file this of the bounding boxes"
   ]
  },
  {
   "cell_type": "code",
   "execution_count": 3,
   "metadata": {},
   "outputs": [
    {
     "name": "stdout",
     "output_type": "stream",
     "text": [
      "Image:C:\\Users\\JannesPC\\Documents\\AiProjects\\TomatoCounter\\Tensorflow\\workspace\\images\\collected_images\\tomato31.png -> Annotation:C:/Users/JannesPC/Documents/AiProjects/TomatoCounter/Tensorflow/workspace/images/collected_images\\tomato31.xml\n",
      "Image:C:\\Users\\JannesPC\\Documents\\AiProjects\\TomatoCounter\\Tensorflow\\workspace\\images\\collected_images\\tomato32.png -> Annotation:C:/Users/JannesPC/Documents/AiProjects/TomatoCounter/Tensorflow/workspace/images/collected_images\\tomato32.xml\n",
      "Image:C:\\Users\\JannesPC\\Documents\\AiProjects\\TomatoCounter\\Tensorflow\\workspace\\images\\collected_images\\tomato35.png -> Annotation:C:/Users/JannesPC/Documents/AiProjects/TomatoCounter/Tensorflow/workspace/images/collected_images\\tomato35.xml\n",
      "Image:C:\\Users\\JannesPC\\Documents\\AiProjects\\TomatoCounter\\Tensorflow\\workspace\\images\\collected_images\\tomato36.png -> Annotation:C:/Users/JannesPC/Documents/AiProjects/TomatoCounter/Tensorflow/workspace/images/collected_images\\tomato36.xml\n",
      "Image:C:\\Users\\JannesPC\\Documents\\AiProjects\\TomatoCounter\\Tensorflow\\workspace\\images\\collected_images\\tomato37.png -> Annotation:C:/Users/JannesPC/Documents/AiProjects/TomatoCounter/Tensorflow/workspace/images/collected_images\\tomato37.xml\n",
      "Image:C:\\Users\\JannesPC\\Documents\\AiProjects\\TomatoCounter\\Tensorflow\\workspace\\images\\collected_images\\tomato38.png -> Annotation:C:/Users/JannesPC/Documents/AiProjects/TomatoCounter/Tensorflow/workspace/images/collected_images\\tomato38.xml\n",
      "Image:C:\\Users\\JannesPC\\Documents\\AiProjects\\TomatoCounter\\Tensorflow\\workspace\\images\\collected_images\\tomato39.png -> Annotation:C:/Users/JannesPC/Documents/AiProjects/TomatoCounter/Tensorflow/workspace/images/collected_images\\tomato39.xml\n",
      "Image:C:\\Users\\JannesPC\\Documents\\AiProjects\\TomatoCounter\\Tensorflow\\workspace\\images\\collected_images\\tomato40.png -> Annotation:C:/Users/JannesPC/Documents/AiProjects/TomatoCounter/Tensorflow/workspace/images/collected_images\\tomato40.xml\n",
      "Image:C:\\Users\\JannesPC\\Documents\\AiProjects\\TomatoCounter\\Tensorflow\\workspace\\images\\collected_images\\tomato41.png -> Annotation:C:/Users/JannesPC/Documents/AiProjects/TomatoCounter/Tensorflow/workspace/images/collected_images\\tomato41.xml\n",
      "Image:C:\\Users\\JannesPC\\Documents\\AiProjects\\TomatoCounter\\Tensorflow\\workspace\\images\\collected_images\\tomato42.png -> Annotation:C:/Users/JannesPC/Documents/AiProjects/TomatoCounter/Tensorflow/workspace/images/collected_images\\tomato42.xml\n",
      "Image:C:\\Users\\JannesPC\\Documents\\AiProjects\\TomatoCounter\\Tensorflow\\workspace\\images\\collected_images\\tomato43.png -> Annotation:C:/Users/JannesPC/Documents/AiProjects/TomatoCounter/Tensorflow/workspace/images/collected_images\\tomato43.xml\n",
      "Image:C:\\Users\\JannesPC\\Documents\\AiProjects\\TomatoCounter\\Tensorflow\\workspace\\images\\collected_images\\tomato46.png -> Annotation:C:/Users/JannesPC/Documents/AiProjects/TomatoCounter/Tensorflow/workspace/images/collected_images\\tomato46.xml\n",
      "Image:C:\\Users\\JannesPC\\Documents\\AiProjects\\TomatoCounter\\Tensorflow\\workspace\\images\\collected_images\\tomato48.png -> Annotation:C:/Users/JannesPC/Documents/AiProjects/TomatoCounter/Tensorflow/workspace/images/collected_images\\tomato48.xml\n",
      "Image:C:\\Users\\JannesPC\\Documents\\AiProjects\\TomatoCounter\\Tensorflow\\workspace\\images\\collected_images\\tomato51.png -> Annotation:C:/Users/JannesPC/Documents/AiProjects/TomatoCounter/Tensorflow/workspace/images/collected_images\\tomato51.xml\n",
      "Image:C:\\Users\\JannesPC\\Documents\\AiProjects\\TomatoCounter\\Tensorflow\\workspace\\images\\collected_images\\tomato52.png -> Annotation:C:/Users/JannesPC/Documents/AiProjects/TomatoCounter/Tensorflow/workspace/images/collected_images\\tomato52.xml\n",
      "Image:C:\\Users\\JannesPC\\Documents\\AiProjects\\TomatoCounter\\Tensorflow\\workspace\\images\\collected_images\\tomato53.png -> Annotation:C:/Users/JannesPC/Documents/AiProjects/TomatoCounter/Tensorflow/workspace/images/collected_images\\tomato53.xml\n",
      "Cancel creation.\n",
      "Image:C:\\Users\\JannesPC\\Documents\\AiProjects\\TomatoCounter\\Tensorflow\\workspace\\images\\collected_images\\tomato58.png -> Annotation:C:/Users/JannesPC/Documents/AiProjects/TomatoCounter/Tensorflow/workspace/images/collected_images\\tomato58.xml\n",
      "Cancel creation.\n",
      "Image:C:\\Users\\JannesPC\\Documents\\AiProjects\\TomatoCounter\\Tensorflow\\workspace\\images\\collected_images\\tomato59.png -> Annotation:C:/Users/JannesPC/Documents/AiProjects/TomatoCounter/Tensorflow/workspace/images/collected_images\\tomato59.xml\n",
      "Image:C:\\Users\\JannesPC\\Documents\\AiProjects\\TomatoCounter\\Tensorflow\\workspace\\images\\collected_images\\tomato61.png -> Annotation:C:/Users/JannesPC/Documents/AiProjects/TomatoCounter/Tensorflow/workspace/images/collected_images\\tomato61.xml\n",
      "Image:C:\\Users\\JannesPC\\Documents\\AiProjects\\TomatoCounter\\Tensorflow\\workspace\\images\\collected_images\\tomato63.png -> Annotation:C:/Users/JannesPC/Documents/AiProjects/TomatoCounter/Tensorflow/workspace/images/collected_images\\tomato63.xml\n",
      "Image:C:\\Users\\JannesPC\\Documents\\AiProjects\\TomatoCounter\\Tensorflow\\workspace\\images\\collected_images\\tomato64.png -> Annotation:C:/Users/JannesPC/Documents/AiProjects/TomatoCounter/Tensorflow/workspace/images/collected_images\\tomato64.xml\n",
      "Image:C:\\Users\\JannesPC\\Documents\\AiProjects\\TomatoCounter\\Tensorflow\\workspace\\images\\collected_images\\tomato64.png -> Annotation:C:/Users/JannesPC/Documents/AiProjects/TomatoCounter/Tensorflow/workspace/images/collected_images\\tomato64.xml\n",
      "Image:C:\\Users\\JannesPC\\Documents\\AiProjects\\TomatoCounter\\Tensorflow\\workspace\\images\\collected_images\\tomato65.png -> Annotation:C:/Users/JannesPC/Documents/AiProjects/TomatoCounter/Tensorflow/workspace/images/collected_images\\tomato65.xml\n",
      "Image:C:\\Users\\JannesPC\\Documents\\AiProjects\\TomatoCounter\\Tensorflow\\workspace\\images\\collected_images\\tomato66.png -> Annotation:C:/Users/JannesPC/Documents/AiProjects/TomatoCounter/Tensorflow/workspace/images/collected_images\\tomato66.xml\n",
      "Image:C:\\Users\\JannesPC\\Documents\\AiProjects\\TomatoCounter\\Tensorflow\\workspace\\images\\collected_images\\tomato67.png -> Annotation:C:/Users/JannesPC/Documents/AiProjects/TomatoCounter/Tensorflow/workspace/images/collected_images\\tomato67.xml\n",
      "Image:C:\\Users\\JannesPC\\Documents\\AiProjects\\TomatoCounter\\Tensorflow\\workspace\\images\\collected_images\\tomato70.png -> Annotation:C:/Users/JannesPC/Documents/AiProjects/TomatoCounter/Tensorflow/workspace/images/collected_images\\tomato70.xml\n",
      "Image:C:\\Users\\JannesPC\\Documents\\AiProjects\\TomatoCounter\\Tensorflow\\workspace\\images\\collected_images\\tomato71.png -> Annotation:C:/Users/JannesPC/Documents/AiProjects/TomatoCounter/Tensorflow/workspace/images/collected_images\\tomato71.xml\n",
      "Image:C:\\Users\\JannesPC\\Documents\\AiProjects\\TomatoCounter\\Tensorflow\\workspace\\images\\collected_images\\tomato72.png -> Annotation:C:/Users/JannesPC/Documents/AiProjects/TomatoCounter/Tensorflow/workspace/images/collected_images\\tomato72.xml\n",
      "Image:C:\\Users\\JannesPC\\Documents\\AiProjects\\TomatoCounter\\Tensorflow\\workspace\\images\\collected_images\\tomato76.png -> Annotation:C:/Users/JannesPC/Documents/AiProjects/TomatoCounter/Tensorflow/workspace/images/collected_images\\tomato76.xml\n",
      "Image:C:\\Users\\JannesPC\\Documents\\AiProjects\\TomatoCounter\\Tensorflow\\workspace\\images\\collected_images\\tomato77.png -> Annotation:C:/Users/JannesPC/Documents/AiProjects/TomatoCounter/Tensorflow/workspace/images/collected_images\\tomato77.xml\n",
      "Image:C:\\Users\\JannesPC\\Documents\\AiProjects\\TomatoCounter\\Tensorflow\\workspace\\images\\collected_images\\tomato79.png -> Annotation:C:/Users/JannesPC/Documents/AiProjects/TomatoCounter/Tensorflow/workspace/images/collected_images\\tomato79.xml\n",
      "Image:C:\\Users\\JannesPC\\Documents\\AiProjects\\TomatoCounter\\Tensorflow\\workspace\\images\\collected_images\\tomato81.png -> Annotation:C:/Users/JannesPC/Documents/AiProjects/TomatoCounter/Tensorflow/workspace/images/collected_images\\tomato81.xml\n",
      "Image:C:\\Users\\JannesPC\\Documents\\AiProjects\\TomatoCounter\\Tensorflow\\workspace\\images\\collected_images\\tomato83.png -> Annotation:C:/Users/JannesPC/Documents/AiProjects/TomatoCounter/Tensorflow/workspace/images/collected_images\\tomato83.xml\n",
      "Image:C:\\Users\\JannesPC\\Documents\\AiProjects\\TomatoCounter\\Tensorflow\\workspace\\images\\collected_images\\tomato87.png -> Annotation:C:/Users/JannesPC/Documents/AiProjects/TomatoCounter/Tensorflow/workspace/images/collected_images\\tomato87.xml\n",
      "Image:C:\\Users\\JannesPC\\Documents\\AiProjects\\TomatoCounter\\Tensorflow\\workspace\\images\\collected_images\\tomato88.png -> Annotation:C:/Users/JannesPC/Documents/AiProjects/TomatoCounter/Tensorflow/workspace/images/collected_images\\tomato88.xml\n",
      "Image:C:\\Users\\JannesPC\\Documents\\AiProjects\\TomatoCounter\\Tensorflow\\workspace\\images\\collected_images\\tomato90.png -> Annotation:C:/Users/JannesPC/Documents/AiProjects/TomatoCounter/Tensorflow/workspace/images/collected_images\\tomato90.xml\n",
      "Image:C:\\Users\\JannesPC\\Documents\\AiProjects\\TomatoCounter\\Tensorflow\\workspace\\images\\collected_images\\tomato92.png -> Annotation:C:/Users/JannesPC/Documents/AiProjects/TomatoCounter/Tensorflow/workspace/images/collected_images\\tomato92.xml\n",
      "Image:C:\\Users\\JannesPC\\Documents\\AiProjects\\TomatoCounter\\Tensorflow\\workspace\\images\\collected_images\\tomato93.png -> Annotation:C:/Users/JannesPC/Documents/AiProjects/TomatoCounter/Tensorflow/workspace/images/collected_images\\tomato93.xml\n",
      "Image:C:\\Users\\JannesPC\\Documents\\AiProjects\\TomatoCounter\\Tensorflow\\workspace\\images\\collected_images\\tomato95.png -> Annotation:C:/Users/JannesPC/Documents/AiProjects/TomatoCounter/Tensorflow/workspace/images/collected_images\\tomato95.xml\n",
      "Image:C:\\Users\\JannesPC\\Documents\\AiProjects\\TomatoCounter\\Tensorflow\\workspace\\images\\collected_images\\tomato96.png -> Annotation:C:/Users/JannesPC/Documents/AiProjects/TomatoCounter/Tensorflow/workspace/images/collected_images\\tomato96.xml\n"
     ]
    }
   ],
   "source": [
    "!cd {LABELIMG_PATH} && python labelImg.py"
   ]
  },
  {
   "attachments": {},
   "cell_type": "markdown",
   "metadata": {},
   "source": [
    "# 5. Split up your labeled images into train- and testset"
   ]
  },
  {
   "attachments": {},
   "cell_type": "markdown",
   "metadata": {},
   "source": [
    "Creating directory for the two datasets"
   ]
  },
  {
   "cell_type": "code",
   "execution_count": 7,
   "metadata": {},
   "outputs": [],
   "source": [
    "TRAINSET_PATH = os.path.join('Tensorflow', 'workspace', 'images', 'trainset')\n",
    "TESTSET_PATH = os.path.join('Tensorflow', 'workspace', 'images', 'testset')\n",
    "DEVSET_PATH = os.path.join('Tensorflow', 'workspace', 'images', 'devset')\n",
    "\n",
    "if not os.path.exists(TRAINSET_PATH):\n",
    "    if os.name == 'posix':\n",
    "        !mkdir -p {TRAINSET_PATH}\n",
    "    if os.name == 'nt':\n",
    "        !mkdir {TRAINSET_PATH}\n",
    "\n",
    "if not os.path.exists(TESTSET_PATH):\n",
    "    if os.name == 'posix':\n",
    "        !mkdir -p {TESTSET_PATH}\n",
    "    if os.name == 'nt':\n",
    "        !mkdir {TESTSET_PATH}\n",
    "\n",
    "\n",
    "if not os.path.exists(DEVSET_PATH):\n",
    "    if os.name == 'posix':\n",
    "        !mkdir -p {DEVSET_PATH}\n",
    "    if os.name == 'nt':\n",
    "        !mkdir {DEVSET_PATH}"
   ]
  },
  {
   "attachments": {},
   "cell_type": "markdown",
   "metadata": {},
   "source": [
    "Split up your labeled images manually into train- and testset by copy and pasting them form the colected_images directory into the corresponding directory.  \n",
    "Import: Make sure to copy both files (image + xml file) "
   ]
  },
  {
   "attachments": {},
   "cell_type": "markdown",
   "metadata": {},
   "source": [
    "# Compress Dataset to use it in Google Colab for training the model"
   ]
  },
  {
   "cell_type": "code",
   "execution_count": 8,
   "metadata": {},
   "outputs": [],
   "source": [
    "DATASET_PATH = os.path.join('Tensorflow', 'workspace', 'images', 'dataset.tar.gz')\n",
    "\n",
    "!tar -czf {DATASET_PATH} {TRAINSET_PATH} {TESTSET_PATH} {DEVSET_PATH}"
   ]
  }
 ],
 "metadata": {
  "kernelspec": {
   "display_name": "TomatoCounter",
   "language": "python",
   "name": "python3"
  },
  "language_info": {
   "codemirror_mode": {
    "name": "ipython",
    "version": 3
   },
   "file_extension": ".py",
   "mimetype": "text/x-python",
   "name": "python",
   "nbconvert_exporter": "python",
   "pygments_lexer": "ipython3",
   "version": "3.10.8"
  },
  "orig_nbformat": 4,
  "vscode": {
   "interpreter": {
    "hash": "5e6b86ef769d7ca855e44f0cec3602c343199247f1fa527b4b97d028d34d1df0"
   }
  }
 },
 "nbformat": 4,
 "nbformat_minor": 2
}
